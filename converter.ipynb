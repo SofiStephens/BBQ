{
 "cells": [
  {
   "cell_type": "code",
   "execution_count": 1,
   "metadata": {},
   "outputs": [],
   "source": [
    "import pandas as pd"
   ]
  },
  {
   "cell_type": "code",
   "execution_count": 6,
   "metadata": {},
   "outputs": [],
   "source": [
    "age= pd.read_csv('templates\\\\new_templates - Age.csv')\n",
    "disability_status= pd.read_csv('templates\\\\new_templates - Disability_status.csv')\n",
    "gender_identity= pd.read_csv('templates\\\\new_templates - gender_identity.csv')\n",
    "nationality= pd.read_csv('templates\\\\new_templates - Nationality.csv')\n",
    "physical_appearance= pd.read_csv('templates\\\\new_templates - Physical_appearance.csv')\n",
    "race_ethnicity= pd.read_csv('templates\\\\new_templates - Race_ethnicity.csv')\n",
    "religion= pd.read_csv('templates\\\\new_templates - Religion.csv')\n",
    "ses= pd.read_csv('templates\\\\new_templates - SES.csv')\n",
    "sexual_orientation= pd.read_csv('templates\\\\new_templates - Sexual_orientation.csv')"
   ]
  },
  {
   "cell_type": "code",
   "execution_count": 7,
   "metadata": {},
   "outputs": [],
   "source": [
    "age.to_excel('excel_files\\\\template_age.xlsx')\n",
    "disability_status.to_excel('excel_files\\\\template_disability_status.xlsx')\n",
    "gender_identity.to_excel('excel_files\\\\template_gender_identity.xlsx')\n",
    "nationality.to_excel('excel_files\\\\template_nationality.xlsx')\n",
    "physical_appearance.to_excel('excel_files\\\\template_physical_appearance.xlsx')\n",
    "race_ethnicity.to_excel('excel_files\\\\template_race_ethnicity.xlsx')\n",
    "religion.to_excel('excel_files\\\\template_religion.xlsx')\n",
    "ses.to_excel('excel_files\\\\template_ses.xlsx')\n",
    "sexual_orientation.to_excel('excel_files\\\\template_sexual_orientation.xlsx')\n"
   ]
  },
  {
   "cell_type": "code",
   "execution_count": null,
   "metadata": {},
   "outputs": [],
   "source": []
  }
 ],
 "metadata": {
  "kernelspec": {
   "display_name": "base",
   "language": "python",
   "name": "python3"
  },
  "language_info": {
   "codemirror_mode": {
    "name": "ipython",
    "version": 3
   },
   "file_extension": ".py",
   "mimetype": "text/x-python",
   "name": "python",
   "nbconvert_exporter": "python",
   "pygments_lexer": "ipython3",
   "version": "3.9.12"
  }
 },
 "nbformat": 4,
 "nbformat_minor": 2
}
